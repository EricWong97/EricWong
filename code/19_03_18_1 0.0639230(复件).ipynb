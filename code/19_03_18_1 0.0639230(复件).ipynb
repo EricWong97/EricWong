{
 "cells": [
  {
   "cell_type": "markdown",
   "metadata": {},
   "source": [
    "### Packages"
   ]
  },
  {
   "cell_type": "code",
   "execution_count": 1,
   "metadata": {},
   "outputs": [],
   "source": [
    "#在local cv 6377的基础上，加上MSE优化，MAE & MAE各自用N个seed 最终加权平均"
   ]
  },
  {
   "cell_type": "code",
   "execution_count": 2,
   "metadata": {},
   "outputs": [],
   "source": [
    "import time\n",
    "import matplotlib.pyplot as plt\n",
    "import seaborn as sns\n",
    "import numpy as np\n",
    "import pandas as pd\n",
    "import lightgbm as lgb\n",
    "from sklearn.model_selection import StratifiedKFold\n",
    "from sklearn.preprocessing import LabelEncoder"
   ]
  },
  {
   "cell_type": "markdown",
   "metadata": {},
   "source": [
    "### Input data"
   ]
  },
  {
   "cell_type": "code",
   "execution_count": 3,
   "metadata": {
    "scrolled": true
   },
   "outputs": [],
   "source": [
    "data_path = ''\n",
    "train_data = pd.read_csv(data_path + 'train_dataset.csv')\n",
    "test_data = pd.read_csv(data_path + 'test_dataset.csv')\n",
    "sample_sub = pd.read_csv(data_path + 'submit_example.csv')"
   ]
  },
  {
   "cell_type": "markdown",
   "metadata": {},
   "source": [
    "### Pre-processing"
   ]
  },
  {
   "cell_type": "code",
   "execution_count": 4,
   "metadata": {},
   "outputs": [
    {
     "data": {
      "text/html": [
       "<div>\n",
       "<style scoped>\n",
       "    .dataframe tbody tr th:only-of-type {\n",
       "        vertical-align: middle;\n",
       "    }\n",
       "\n",
       "    .dataframe tbody tr th {\n",
       "        vertical-align: top;\n",
       "    }\n",
       "\n",
       "    .dataframe thead th {\n",
       "        text-align: right;\n",
       "    }\n",
       "</style>\n",
       "<table border=\"1\" class=\"dataframe\">\n",
       "  <thead>\n",
       "    <tr style=\"text-align: right;\">\n",
       "      <th></th>\n",
       "      <th>用户编码</th>\n",
       "      <th>用户实名制是否通过核实</th>\n",
       "      <th>用户年龄</th>\n",
       "      <th>是否大学生客户</th>\n",
       "      <th>是否黑名单客户</th>\n",
       "      <th>是否4G不健康客户</th>\n",
       "      <th>用户网龄（月）</th>\n",
       "      <th>用户最近一次缴费距今时长（月）</th>\n",
       "      <th>缴费用户最近一次缴费金额（元）</th>\n",
       "      <th>用户近6个月平均消费值（元）</th>\n",
       "      <th>...</th>\n",
       "      <th>当月是否景点游览</th>\n",
       "      <th>当月是否体育场馆消费</th>\n",
       "      <th>当月网购类应用使用次数</th>\n",
       "      <th>当月物流快递类应用使用次数</th>\n",
       "      <th>当月金融理财类应用使用总次数</th>\n",
       "      <th>当月视频播放类应用使用次数</th>\n",
       "      <th>当月飞机类应用使用次数</th>\n",
       "      <th>当月火车类应用使用次数</th>\n",
       "      <th>当月旅游资讯类应用使用次数</th>\n",
       "      <th>信用分</th>\n",
       "    </tr>\n",
       "  </thead>\n",
       "  <tbody>\n",
       "    <tr>\n",
       "      <th>0</th>\n",
       "      <td>a4651f98c82948b186bdcdc8108381b4</td>\n",
       "      <td>1</td>\n",
       "      <td>44</td>\n",
       "      <td>0</td>\n",
       "      <td>0</td>\n",
       "      <td>0</td>\n",
       "      <td>186</td>\n",
       "      <td>1</td>\n",
       "      <td>99.8</td>\n",
       "      <td>163.86</td>\n",
       "      <td>...</td>\n",
       "      <td>1</td>\n",
       "      <td>1</td>\n",
       "      <td>713</td>\n",
       "      <td>0</td>\n",
       "      <td>2740</td>\n",
       "      <td>7145</td>\n",
       "      <td>0</td>\n",
       "      <td>0</td>\n",
       "      <td>30</td>\n",
       "      <td>664</td>\n",
       "    </tr>\n",
       "  </tbody>\n",
       "</table>\n",
       "<p>1 rows × 30 columns</p>\n",
       "</div>"
      ],
      "text/plain": [
       "                               用户编码  用户实名制是否通过核实  用户年龄  是否大学生客户  是否黑名单客户  \\\n",
       "0  a4651f98c82948b186bdcdc8108381b4            1    44        0        0   \n",
       "\n",
       "   是否4G不健康客户  用户网龄（月）  用户最近一次缴费距今时长（月）  缴费用户最近一次缴费金额（元）  用户近6个月平均消费值（元） ...   \\\n",
       "0          0      186                1             99.8          163.86 ...    \n",
       "\n",
       "   当月是否景点游览  当月是否体育场馆消费  当月网购类应用使用次数  当月物流快递类应用使用次数  当月金融理财类应用使用总次数  \\\n",
       "0         1           1          713              0            2740   \n",
       "\n",
       "   当月视频播放类应用使用次数  当月飞机类应用使用次数  当月火车类应用使用次数  当月旅游资讯类应用使用次数  信用分  \n",
       "0           7145            0            0             30  664  \n",
       "\n",
       "[1 rows x 30 columns]"
      ]
     },
     "execution_count": 4,
     "metadata": {},
     "output_type": "execute_result"
    }
   ],
   "source": [
    "train_data.head(1)"
   ]
  },
  {
   "cell_type": "code",
   "execution_count": 5,
   "metadata": {},
   "outputs": [
    {
     "name": "stdout",
     "output_type": "stream",
     "text": [
      "Index(['用户编码', '用户实名制是否通过核实', '用户年龄', '是否大学生客户', '是否黑名单客户', '是否4G不健康客户',\n",
      "       '用户网龄（月）', '用户最近一次缴费距今时长（月）', '缴费用户最近一次缴费金额（元）', '用户近6个月平均消费值（元）',\n",
      "       '用户账单当月总费用（元）', '用户当月账户余额（元）', '缴费用户当前是否欠费缴费', '用户话费敏感度', '当月通话交往圈人数',\n",
      "       '是否经常逛商场的人', '近三个月月均商场出现次数', '当月是否逛过福州仓山万达', '当月是否到过福州山姆会员店', '当月是否看电影',\n",
      "       '当月是否景点游览', '当月是否体育场馆消费', '当月网购类应用使用次数', '当月物流快递类应用使用次数',\n",
      "       '当月金融理财类应用使用总次数', '当月视频播放类应用使用次数', '当月飞机类应用使用次数', '当月火车类应用使用次数',\n",
      "       '当月旅游资讯类应用使用次数', '信用分'],\n",
      "      dtype='object')\n"
     ]
    }
   ],
   "source": [
    "#all chinese name- -\n",
    "#rename one by one\n",
    "print(train_data.columns)"
   ]
  },
  {
   "cell_type": "code",
   "execution_count": 6,
   "metadata": {},
   "outputs": [],
   "source": [
    "# train_data.columns = ['uid','true_name_flag','age','uni_student_flag','blk_list_flag',\\\n",
    "#                      '4g_unhealth_flag','net_age_till_now','top_up_month_diff','top_up_amount',\\\n",
    "#                      'recent_6month_avg_use','total_account_fee','curr_month_balance',\\\n",
    "#                      'curr_overdue_flag','cost_sensitivity','connect_num','freq_shopping_flag',\\\n",
    "#                      'recent_3month_shopping_count','wanda_flag','sam_flag','movie_flag',\\\n",
    "#                      'tour_flag','sport_flag','online_shopping_count','express_count',\\\n",
    "#                      'finance_app_count','video_app_count','flight_count','train_count',\\\n",
    "#                      'tour_app_count','score']\n",
    "# test_data.columns = train_data.columns[:-1]"
   ]
  },
  {
   "cell_type": "markdown",
   "metadata": {},
   "source": [
    "### Feature Engineering"
   ]
  },
  {
   "cell_type": "code",
   "execution_count": 7,
   "metadata": {},
   "outputs": [
    {
     "name": "stderr",
     "output_type": "stream",
     "text": [
      "/home/eric/.local/lib/python3.6/site-packages/ipykernel_launcher.py:11: SettingWithCopyWarning: \n",
      "A value is trying to be set on a copy of a slice from a DataFrame\n",
      "\n",
      "See the caveats in the documentation: http://pandas.pydata.org/pandas-docs/stable/indexing.html#indexing-view-versus-copy\n",
      "  # This is added back by InteractiveShellApp.init_path()\n"
     ]
    }
   ],
   "source": [
    "#age and net_age_in_month ---> 入网时的年龄 --- useless\n",
    "#先前余额，当前余额 + 当月话费 - 上次缴费 --- useless\n",
    "#充值金额/余额 --- useless\n",
    "#当月话费/最近充值金额 --- useless\n",
    "#六个月均值/充值金额 --- useless\n",
    "\n",
    "#top up amount, 充值金额是整数，和小数，应该对应不同的充值途径？\n",
    "\n",
    "def produce_offline_feat(train_data):\n",
    "    train_data['不同充值途径']=0\n",
    "    train_data['不同充值途径'][(train_data['缴费用户最近一次缴费金额（元）']%10==0)&train_data['缴费用户最近一次缴费金额（元）']!=0]=1\n",
    "\n",
    "    return train_data\n",
    "\n",
    "train_data = produce_offline_feat(train_data)\n",
    "test_data = produce_offline_feat(test_data)"
   ]
  },
  {
   "cell_type": "code",
   "execution_count": 8,
   "metadata": {},
   "outputs": [],
   "source": [
    "def produce_fee_rate(train_data):\n",
    "    train_data['当前费用稳定性']=train_data['用户账单当月总费用（元）']/(train_data['用户近6个月平均消费值（元）']+1)\n",
    "    \n",
    "    ##当月话费/当月账户余额\n",
    "    train_data['用户余额比例']=train_data['用户账单当月总费用（元）']/(train_data['用户当月账户余额（元）']+1)\n",
    "    return train_data\n",
    "\n",
    "train_data = produce_fee_rate(train_data)\n",
    "test_data = produce_fee_rate(test_data)"
   ]
  },
  {
   "cell_type": "code",
   "execution_count": 9,
   "metadata": {},
   "outputs": [],
   "source": [
    "#获取特征\n",
    "def get_features(data):\n",
    "    data.loc[data['用户年龄']==0,'用户年龄']=data['用户年龄'].mode()\n",
    "    data['缴费金额是否能覆盖当月账单']=data['缴费用户最近一次缴费金额（元）']-data['用户账单当月总费用（元）']\n",
    "    data['最近一次缴费是否超过平均消费额']=data['缴费用户最近一次缴费金额（元）']-data['用户近6个月平均消费值（元）']\n",
    "    data['当月账单是否超过平均消费额']=data['用户账单当月总费用（元）']-data['用户近6个月平均消费值（元）']\n",
    "    \n",
    "    #映射年龄\n",
    "    def map_age(x):\n",
    "        if x<=18:\n",
    "            return 1\n",
    "        elif x<=30:\n",
    "            return 2\n",
    "        elif x<=35:\n",
    "            return 3\n",
    "        elif x<=45:\n",
    "            return 4\n",
    "        else:\n",
    "            return 5\n",
    "    data['是否大学生_黑名单']=data['是否大学生客户']+data['是否黑名单客户']\n",
    "    data['是否去过高档商场']=data['当月是否到过福州山姆会员店']+data['当月是否逛过福州仓山万达']\n",
    "    data['是否去过高档商场']=data['是否去过高档商场'].map(lambda x:1 if x>=1 else 0)\n",
    "    data['是否_商场_电影']=data['是否去过高档商场']*data['当月是否看电影']\n",
    "    data['是否_商场_体育馆']=data['是否去过高档商场']*data['当月是否体育场馆消费']\n",
    "    data['是否_商场_旅游']=data['是否去过高档商场']*data['当月是否景点游览']\n",
    "    data['是否_电影_体育馆']=data['当月是否看电影']*data['当月是否体育场馆消费']\n",
    "    data['是否_电影_旅游']=data['当月是否看电影']*data['当月是否景点游览']\n",
    "    data['是否_旅游_体育馆']=data['当月是否景点游览']*data['当月是否体育场馆消费']\n",
    "    \n",
    "    data['是否_商场_旅游_体育馆']=data['是否去过高档商场']*data['当月是否景点游览']*data['当月是否体育场馆消费']\n",
    "    data['是否_商场_电影_体育馆']=data['是否去过高档商场']*data['当月是否看电影']*data['当月是否体育场馆消费']\n",
    "    data['是否_商场_电影_旅游']=data['是否去过高档商场']*data['当月是否看电影']*data['当月是否景点游览']\n",
    "    data['是否_体育馆_电影_旅游']=data['当月是否体育场馆消费']*data['当月是否看电影']*data['当月是否景点游览']\n",
    "    \n",
    "    data['是否_商场_体育馆_电影_旅游']=data['是否去过高档商场']*data['当月是否体育场馆消费']*data['当月是否看电影']*data['当月是否景点游览']\n",
    "    \n",
    "    discretize_features=['交通类应用使用次数','当月物流快递类应用使用次数','当月飞机类应用使用次数','当月火车类应用使用次数','当月旅游资讯类应用使用次数']\n",
    "    data['交通类应用使用次数']=data['当月飞机类应用使用次数']+data['当月火车类应用使用次数']\n",
    "    \n",
    "    data['6个月平均占比总费用']=data['用户近6个月平均消费值（元）']/data['用户账单当月总费用（元）']+1\n",
    "    \n",
    "    data['用户账单当月总费用（零钱）'] = data['用户账单当月总费用（元）'].apply(lambda x:1 if(x-int(x))>0 else 0)\n",
    "    data['用户账单当月总费用（整数）'] = data['用户账单当月总费用（元）'].apply(lambda x:int(x))\n",
    "    \n",
    "    data['6个月平均占比总费用']=data['用户近6个月平均消费值（元）']/data['用户账单当月总费用（元）']+1\n",
    "    data['当月是否有使用理财应用'] = data['当月金融理财类应用使用总次数'].apply(lambda x:1 if x>0 else 0)\n",
    "    data['当月是否有使用视频应用'] = data['当月视频播放类应用使用次数'].apply(lambda x:1 if x>0 else 0)\n",
    "    data['当月是否使用网购类应用'] = data['当月网购类应用使用次数'].apply(lambda x:1 if x>0 else 0)\n",
    "    data['最近三月是否有去过商场'] = data['近三个月月均商场出现次数'].apply(lambda x:1 if x>0 else 0)\n",
    "    data['用户当月余额是否有余'] = data['用户当月账户余额（元）'].apply(lambda x:1 if x>0 else 0)\n",
    "    data['当月是否使用过物流快递类应用'] = data['当月物流快递类应用使用次数'].apply(lambda x:1 if x>0 else 0)\n",
    "    data['最近一次缴费金额是否为零'] = data['缴费用户最近一次缴费金额（元）'].apply(lambda x:1 if x==0 else 0)\n",
    "    data['当月是否坐过飞机'] = data['当月飞机类应用使用次数'].apply(lambda x:1 if x>0 else 0)\n",
    "    data['当月是否坐过火车'] = data['当月火车类应用使用次数'].apply(lambda x:1 if x>0 else 0)\n",
    "    data['是否策划去旅游'] = data['当月旅游资讯类应用使用次数'].apply(lambda x:1 if x>0 else 0)\n",
    "    data['用户年龄是否缺失'] = data['用户年龄'].apply(lambda x:1 if x==0 else x)\n",
    "    data['正常客户'] = data['用户网龄（月）'].apply(lambda x:1 if x>12 else 0)\n",
    "    del data['用户账单当月总费用（元）']\n",
    "    def Start(x):\n",
    "        if 24 > x['用户网龄（月）'] >=12:\n",
    "            return 50\n",
    "        elif 36 > x['用户网龄（月）'] >=24:\n",
    "            return 150\n",
    "        elif 48 > x['用户网龄（月）'] >=36:\n",
    "            return 200\n",
    "        elif 60 > x['用户网龄（月）'] >=48:\n",
    "            return 250\n",
    "        elif x['用户网龄（月）'] >=60:\n",
    "            return 300\n",
    "        else:\n",
    "            return 0\n",
    "\n",
    "\n",
    "    def Mon(x):\n",
    "        if 50 >=x['用户近6个月平均消费值（元）'] > 20:\n",
    "            return 20\n",
    "        elif 80 >=x['用户近6个月平均消费值（元）'] > 50:\n",
    "            return 50\n",
    "        elif 120 >=x['用户近6个月平均消费值（元）'] > 80:\n",
    "            return 100\n",
    "        elif 200 >=x['用户近6个月平均消费值（元）'] > 120:\n",
    "            return 150\n",
    "        elif 400 >=x['用户近6个月平均消费值（元）'] > 200:\n",
    "            return 200\n",
    "        elif  x['用户近6个月平均消费值（元）'] > 400:\n",
    "            return 250\n",
    "        else:\n",
    "            return 0\n",
    "\n",
    "    def Level(x):\n",
    "        a = x['缴费用户当前是否欠费缴费']\n",
    "        b = x['得分']\n",
    "#         if a:\n",
    "#             b=b-100\n",
    "        if 200>b>100:\n",
    "            return 1\n",
    "        elif 300>b>200:\n",
    "            return 2\n",
    "        elif 400>b>300:\n",
    "            return 3\n",
    "        elif 500>b>400:\n",
    "            return 4\n",
    "        elif b>500:\n",
    "            return 5\n",
    "        else:\n",
    "            return 0\n",
    "    data['网龄得分'] = data.apply(Start, axis=1)\n",
    "    data['月均消费得分'] = data.apply(Mon, axis=1)\n",
    "    data['得分'] = data['月均消费得分'] + data['网龄得分']\n",
    "    data['等级'] = data.apply(Level, axis=1)\n",
    "    del data['得分']\n",
    "    del data['月均消费得分']\n",
    "    del data['网龄得分']    \n",
    "    def map_discretize(x):\n",
    "        if x==0:\n",
    "            return 0\n",
    "        elif x<=5:\n",
    "            return 1\n",
    "        elif x<=15:\n",
    "            return 2\n",
    "        elif x<=50:\n",
    "            return 3\n",
    "        elif x<=100:\n",
    "            return 4\n",
    "        else:\n",
    "            return 5\n",
    "        \n",
    "    for col in discretize_features[:]:\n",
    "        data[col]=data[col].map(lambda x:map_discretize(x))\n",
    "    \n",
    "    return data\n",
    "\n",
    "train_data=get_features(train_data)\n",
    "test_data=get_features(test_data)"
   ]
  },
  {
   "cell_type": "markdown",
   "metadata": {},
   "source": [
    "### Training"
   ]
  },
  {
   "cell_type": "code",
   "execution_count": 11,
   "metadata": {},
   "outputs": [],
   "source": [
    "def display_importances(feature_importance_df_):\n",
    "    cols = feature_importance_df_[[\"feature\", \"importance\"]].groupby(\"feature\").mean().sort_values(by=\"importance\", ascending=False)[:40].index\n",
    "    best_features = feature_importance_df_.loc[feature_importance_df_.feature.isin(cols)]\n",
    "    plt.figure(figsize=(8, 10))\n",
    "    sns.barplot(x=\"importance\", y=\"feature\", data=best_features.sort_values(by=\"importance\", ascending=False))\n",
    "    plt.title('LightGBM Features (avg over folds)')\n",
    "    plt.tight_layout()\n",
    "    plt.show()"
   ]
  },
  {
   "cell_type": "code",
   "execution_count": 12,
   "metadata": {},
   "outputs": [],
   "source": [
    "#para\n",
    "params = {\n",
    "    'learning_rate': 0.01,\n",
    "    'boosting_type': 'gbdt',\n",
    "    'objective': 'regression_l1',\n",
    "    'metric': 'mae',\n",
    "    'feature_fraction': 0.6,\n",
    "    'bagging_fraction': 0.8,\n",
    "    'bagging_freq': 2,\n",
    "    'num_leaves': 31,\n",
    "    'verbose': -1,\n",
    "    'max_depth': 5,\n",
    "    'lambda_l2': 5, 'lambda_l1': 0,'nthread': 8,\n",
    "}"
   ]
  },
  {
   "cell_type": "code",
   "execution_count": 13,
   "metadata": {},
   "outputs": [],
   "source": [
    "#para\n",
    "params2 = {\n",
    "    'learning_rate': 0.01,\n",
    "    'boosting_type': 'gbdt',\n",
    "    'objective': 'regression_l2',\n",
    "    'metric': 'mae',\n",
    "    'feature_fraction': 0.6,\n",
    "    'bagging_fraction': 0.8,\n",
    "    'bagging_freq': 2,\n",
    "    'num_leaves': 31,\n",
    "    'verbose': -1,\n",
    "    'max_depth': 5,\n",
    "    'lambda_l2': 5, 'lambda_l1': 0,'nthread': 8,\n",
    "    'seed': 89\n",
    "}"
   ]
  },
  {
   "cell_type": "code",
   "execution_count": 14,
   "metadata": {
    "scrolled": true
   },
   "outputs": [
    {
     "name": "stderr",
     "output_type": "stream",
     "text": [
      "/home/eric/.local/lib/python3.6/site-packages/sklearn/model_selection/_split.py:652: Warning: The least populated class in y has only 1 members, which is too few. The minimum number of members in any class cannot be less than n_splits=5.\n",
      "  % (min_groups, self.n_splits)), Warning)\n"
     ]
    },
    {
     "name": "stdout",
     "output_type": "stream",
     "text": [
      "fold:  0  training\n",
      "Training until validation scores don't improve for 50 rounds.\n",
      "Early stopping, best iteration is:\n",
      "[2412]\tvalid_0's l1: 14.7572\n",
      "fold:  1  training\n",
      "Training until validation scores don't improve for 50 rounds.\n",
      "Early stopping, best iteration is:\n",
      "[2172]\tvalid_0's l1: 14.8379\n",
      "fold:  2  training\n",
      "Training until validation scores don't improve for 50 rounds.\n",
      "Early stopping, best iteration is:\n",
      "[2642]\tvalid_0's l1: 14.712\n",
      "fold:  3  training\n",
      "Training until validation scores don't improve for 50 rounds.\n",
      "Early stopping, best iteration is:\n",
      "[2294]\tvalid_0's l1: 14.6392\n",
      "fold:  4  training\n",
      "Training until validation scores don't improve for 50 rounds.\n",
      "Early stopping, best iteration is:\n",
      "[3666]\tvalid_0's l1: 14.4777\n"
     ]
    },
    {
     "name": "stderr",
     "output_type": "stream",
     "text": [
      "/home/eric/.local/lib/python3.6/site-packages/sklearn/model_selection/_split.py:652: Warning: The least populated class in y has only 1 members, which is too few. The minimum number of members in any class cannot be less than n_splits=5.\n",
      "  % (min_groups, self.n_splits)), Warning)\n"
     ]
    },
    {
     "name": "stdout",
     "output_type": "stream",
     "text": [
      "fold:  0  training\n",
      "Training until validation scores don't improve for 50 rounds.\n",
      "Early stopping, best iteration is:\n",
      "[3027]\tvalid_0's l1: 14.7479\n",
      "fold:  1  training\n",
      "Training until validation scores don't improve for 50 rounds.\n",
      "Early stopping, best iteration is:\n",
      "[3506]\tvalid_0's l1: 14.8269\n",
      "fold:  2  training\n",
      "Training until validation scores don't improve for 50 rounds.\n",
      "Early stopping, best iteration is:\n",
      "[2379]\tvalid_0's l1: 14.5598\n",
      "fold:  3  training\n",
      "Training until validation scores don't improve for 50 rounds.\n",
      "Early stopping, best iteration is:\n",
      "[2655]\tvalid_0's l1: 14.5973\n",
      "fold:  4  training\n",
      "Training until validation scores don't improve for 50 rounds.\n",
      "Early stopping, best iteration is:\n",
      "[2919]\tvalid_0's l1: 14.5987\n"
     ]
    },
    {
     "name": "stderr",
     "output_type": "stream",
     "text": [
      "/home/eric/.local/lib/python3.6/site-packages/sklearn/model_selection/_split.py:652: Warning: The least populated class in y has only 1 members, which is too few. The minimum number of members in any class cannot be less than n_splits=5.\n",
      "  % (min_groups, self.n_splits)), Warning)\n"
     ]
    },
    {
     "name": "stdout",
     "output_type": "stream",
     "text": [
      "fold:  0  training\n",
      "Training until validation scores don't improve for 50 rounds.\n",
      "Early stopping, best iteration is:\n",
      "[3360]\tvalid_0's l1: 14.9402\n",
      "fold:  1  training\n",
      "Training until validation scores don't improve for 50 rounds.\n",
      "Early stopping, best iteration is:\n",
      "[2433]\tvalid_0's l1: 14.729\n",
      "fold:  2  training\n",
      "Training until validation scores don't improve for 50 rounds.\n",
      "Early stopping, best iteration is:\n",
      "[3063]\tvalid_0's l1: 14.5215\n",
      "fold:  3  training\n",
      "Training until validation scores don't improve for 50 rounds.\n",
      "Early stopping, best iteration is:\n",
      "[3414]\tvalid_0's l1: 14.4592\n",
      "fold:  4  training\n",
      "Training until validation scores don't improve for 50 rounds.\n",
      "Early stopping, best iteration is:\n",
      "[2533]\tvalid_0's l1: 14.688\n",
      "cv score for valid is:  0.06382610738335795\n"
     ]
    }
   ],
   "source": [
    "cv_pred_all = 0\n",
    "en_amount = 3\n",
    "for seed in range(en_amount):\n",
    "    NFOLDS = 5\n",
    "    train_label = train_data['信用分']\n",
    "    kfold = StratifiedKFold(n_splits=NFOLDS, shuffle=True, random_state=seed)\n",
    "    kf = kfold.split(train_data, train_label)\n",
    "\n",
    "    train_data_use = train_data.drop(['用户编码','信用分','是否黑名单客户'], axis=1)\n",
    "    test_data_use = test_data.drop(['用户编码','是否黑名单客户'], axis=1)\n",
    "\n",
    "\n",
    "    cv_pred = np.zeros(test_data.shape[0])\n",
    "    valid_best_l1_all = 0\n",
    "\n",
    "    feature_importance_df = pd.DataFrame()\n",
    "    count = 0\n",
    "    for i, (train_fold, validate) in enumerate(kf):\n",
    "        print('fold: ',i, ' training')\n",
    "        X_train, X_validate, label_train, label_validate = \\\n",
    "        train_data_use.iloc[train_fold, :], train_data_use.iloc[validate, :], \\\n",
    "        train_label[train_fold], train_label[validate]\n",
    "        dtrain = lgb.Dataset(X_train, label_train)\n",
    "        dvalid = lgb.Dataset(X_validate, label_validate, reference=dtrain)\n",
    "        bst = lgb.train(params, dtrain, num_boost_round=10000, valid_sets=dvalid, verbose_eval=-1,early_stopping_rounds=50)\n",
    "        cv_pred += bst.predict(test_data_use, num_iteration=bst.best_iteration)\n",
    "        valid_best_l1_all += bst.best_score['valid_0']['l1']\n",
    "\n",
    "#         fold_importance_df = pd.DataFrame()\n",
    "#         fold_importance_df[\"feature\"] = list(X_train.columns)\n",
    "#         fold_importance_df[\"importance\"] = bst.feature_importance(importance_type='split', iteration=bst.best_iteration)\n",
    "#         fold_importance_df[\"fold\"] = count + 1\n",
    "#         feature_importance_df = pd.concat([feature_importance_df, fold_importance_df], axis=0)\n",
    "        count += 1\n",
    "\n",
    "    cv_pred /= NFOLDS\n",
    "    valid_best_l1_all /= NFOLDS\n",
    "    \n",
    "    cv_pred_all += cv_pred\n",
    "cv_pred_all /= en_amount\n",
    "print('cv score for valid is: ', 1/(1+valid_best_l1_all))"
   ]
  },
  {
   "cell_type": "code",
   "execution_count": 15,
   "metadata": {
    "scrolled": true
   },
   "outputs": [
    {
     "name": "stdout",
     "output_type": "stream",
     "text": [
      "fold:  0  training\n"
     ]
    },
    {
     "name": "stderr",
     "output_type": "stream",
     "text": [
      "/home/eric/.local/lib/python3.6/site-packages/sklearn/model_selection/_split.py:652: Warning: The least populated class in y has only 1 members, which is too few. The minimum number of members in any class cannot be less than n_splits=5.\n",
      "  % (min_groups, self.n_splits)), Warning)\n"
     ]
    },
    {
     "name": "stdout",
     "output_type": "stream",
     "text": [
      "Training until validation scores don't improve for 50 rounds.\n",
      "Early stopping, best iteration is:\n",
      "[2102]\tvalid_0's l1: 14.7726\n",
      "fold:  1  training\n",
      "Training until validation scores don't improve for 50 rounds.\n",
      "Early stopping, best iteration is:\n",
      "[2041]\tvalid_0's l1: 14.6954\n",
      "fold:  2  training\n",
      "Training until validation scores don't improve for 50 rounds.\n",
      "Early stopping, best iteration is:\n",
      "[1915]\tvalid_0's l1: 14.7859\n",
      "fold:  3  training\n",
      "Training until validation scores don't improve for 50 rounds.\n",
      "Early stopping, best iteration is:\n",
      "[1632]\tvalid_0's l1: 14.5127\n",
      "fold:  4  training\n",
      "Training until validation scores don't improve for 50 rounds.\n",
      "Early stopping, best iteration is:\n",
      "[2455]\tvalid_0's l1: 14.7381\n"
     ]
    },
    {
     "name": "stderr",
     "output_type": "stream",
     "text": [
      "/home/eric/.local/lib/python3.6/site-packages/sklearn/model_selection/_split.py:652: Warning: The least populated class in y has only 1 members, which is too few. The minimum number of members in any class cannot be less than n_splits=5.\n",
      "  % (min_groups, self.n_splits)), Warning)\n"
     ]
    },
    {
     "name": "stdout",
     "output_type": "stream",
     "text": [
      "fold:  0  training\n",
      "Training until validation scores don't improve for 50 rounds.\n",
      "Early stopping, best iteration is:\n",
      "[2665]\tvalid_0's l1: 14.7345\n",
      "fold:  1  training\n",
      "Training until validation scores don't improve for 50 rounds.\n",
      "Early stopping, best iteration is:\n",
      "[2924]\tvalid_0's l1: 14.7609\n",
      "fold:  2  training\n",
      "Training until validation scores don't improve for 50 rounds.\n",
      "Early stopping, best iteration is:\n",
      "[2354]\tvalid_0's l1: 14.4969\n",
      "fold:  3  training\n",
      "Training until validation scores don't improve for 50 rounds.\n",
      "Early stopping, best iteration is:\n",
      "[2406]\tvalid_0's l1: 14.5227\n",
      "fold:  4  training\n",
      "Training until validation scores don't improve for 50 rounds.\n",
      "Early stopping, best iteration is:\n",
      "[2342]\tvalid_0's l1: 14.8165\n"
     ]
    },
    {
     "name": "stderr",
     "output_type": "stream",
     "text": [
      "/home/eric/.local/lib/python3.6/site-packages/sklearn/model_selection/_split.py:652: Warning: The least populated class in y has only 1 members, which is too few. The minimum number of members in any class cannot be less than n_splits=5.\n",
      "  % (min_groups, self.n_splits)), Warning)\n"
     ]
    },
    {
     "name": "stdout",
     "output_type": "stream",
     "text": [
      "fold:  0  training\n",
      "Training until validation scores don't improve for 50 rounds.\n",
      "Early stopping, best iteration is:\n",
      "[2342]\tvalid_0's l1: 14.5551\n",
      "fold:  1  training\n",
      "Training until validation scores don't improve for 50 rounds.\n",
      "Early stopping, best iteration is:\n",
      "[2223]\tvalid_0's l1: 14.8393\n",
      "fold:  2  training\n",
      "Training until validation scores don't improve for 50 rounds.\n",
      "Early stopping, best iteration is:\n",
      "[1904]\tvalid_0's l1: 14.8145\n",
      "fold:  3  training\n",
      "Training until validation scores don't improve for 50 rounds.\n",
      "Early stopping, best iteration is:\n",
      "[2220]\tvalid_0's l1: 14.6251\n",
      "fold:  4  training\n",
      "Training until validation scores don't improve for 50 rounds.\n",
      "Early stopping, best iteration is:\n",
      "[2048]\tvalid_0's l1: 14.6508\n",
      "cv score for valid is:  0.06370665650604845\n"
     ]
    }
   ],
   "source": [
    "cv_pred_all2 = 0\n",
    "en_amount = 3\n",
    "for seed in range(en_amount):\n",
    "    NFOLDS = 5\n",
    "    train_label = train_data['信用分']\n",
    "    kfold = StratifiedKFold(n_splits=NFOLDS, shuffle=True, random_state=(seed + 2019))\n",
    "    kf = kfold.split(train_data, train_label)\n",
    "\n",
    "    train_data_use = train_data.drop(['用户编码','信用分','是否黑名单客户'], axis=1)\n",
    "    test_data_use = test_data.drop(['用户编码','是否黑名单客户'], axis=1)\n",
    "\n",
    "\n",
    "    cv_pred = np.zeros(test_data.shape[0])\n",
    "    valid_best_l2_all = 0\n",
    "\n",
    "    feature_importance_df = pd.DataFrame()\n",
    "    count = 0\n",
    "    for i, (train_fold, validate) in enumerate(kf):\n",
    "        print('fold: ',i, ' training')\n",
    "        X_train, X_validate, label_train, label_validate = \\\n",
    "        train_data_use.iloc[train_fold, :], train_data_use.iloc[validate, :], \\\n",
    "        train_label[train_fold], train_label[validate]\n",
    "        dtrain = lgb.Dataset(X_train, label_train)\n",
    "        dvalid = lgb.Dataset(X_validate, label_validate, reference=dtrain)\n",
    "        bst = lgb.train(params2, dtrain, num_boost_round=10000, valid_sets=dvalid, verbose_eval=-1,early_stopping_rounds=50)\n",
    "        cv_pred += bst.predict(test_data_use, num_iteration=bst.best_iteration)\n",
    "        valid_best_l2_all += bst.best_score['valid_0']['l1']\n",
    "\n",
    "#         fold_importance_df = pd.DataFrame()\n",
    "#         fold_importance_df[\"feature\"] = list(X_train.columns)\n",
    "#         fold_importance_df[\"importance\"] = bst.feature_importance(importance_type='split', iteration=bst.best_iteration)\n",
    "#         fold_importance_df[\"fold\"] = count + 1\n",
    "#         feature_importance_df = pd.concat([feature_importance_df, fold_importance_df], axis=0)\n",
    "        count += 1\n",
    "\n",
    "    cv_pred /= NFOLDS\n",
    "    valid_best_l2_all /= NFOLDS\n",
    "    \n",
    "    cv_pred_all2 += cv_pred\n",
    "    \n",
    "cv_pred_all2 /= en_amount\n",
    "print('cv score for valid is: ', 1/(1+valid_best_l2_all))"
   ]
  },
  {
   "cell_type": "code",
   "execution_count": 16,
   "metadata": {},
   "outputs": [
    {
     "name": "stdout",
     "output_type": "stream",
     "text": [
      "cv score for valid is:  0.06382610738335795\n",
      "cv score for valid is:  0.06370665650604845\n"
     ]
    }
   ],
   "source": [
    "print('cv score for valid is: ', 1/(1+valid_best_l1_all))\n",
    "print('cv score for valid is: ', 1/(1+valid_best_l2_all))"
   ]
  },
  {
   "cell_type": "code",
   "execution_count": 29,
   "metadata": {},
   "outputs": [
    {
     "name": "stderr",
     "output_type": "stream",
     "text": [
      "/home/eric/.local/lib/python3.6/site-packages/ipykernel_launcher.py:2: SettingWithCopyWarning: \n",
      "A value is trying to be set on a copy of a slice from a DataFrame.\n",
      "Try using .loc[row_indexer,col_indexer] = value instead\n",
      "\n",
      "See the caveats in the documentation: http://pandas.pydata.org/pandas-docs/stable/indexing.html#indexing-view-versus-copy\n",
      "  \n",
      "/home/eric/.local/lib/python3.6/site-packages/ipykernel_launcher.py:4: SettingWithCopyWarning: \n",
      "A value is trying to be set on a copy of a slice from a DataFrame.\n",
      "Try using .loc[row_indexer,col_indexer] = value instead\n",
      "\n",
      "See the caveats in the documentation: http://pandas.pydata.org/pandas-docs/stable/indexing.html#indexing-view-versus-copy\n",
      "  after removing the cwd from sys.path.\n",
      "/home/eric/.local/lib/python3.6/site-packages/ipykernel_launcher.py:5: SettingWithCopyWarning: \n",
      "A value is trying to be set on a copy of a slice from a DataFrame.\n",
      "Try using .loc[row_indexer,col_indexer] = value instead\n",
      "\n",
      "See the caveats in the documentation: http://pandas.pydata.org/pandas-docs/stable/indexing.html#indexing-view-versus-copy\n",
      "  \"\"\"\n"
     ]
    }
   ],
   "source": [
    "test_data_sub = test_data[['用户编码']]\n",
    "test_data_sub['score'] = (cv_pred_all2 + cv_pred_all)/2\n",
    "test_data_sub.columns = ['id','score']\n",
    "test_data_sub['score1'] = cv_pred_all\n",
    "test_data_sub['score2'] = cv_pred_all2"
   ]
  },
  {
   "cell_type": "code",
   "execution_count": 30,
   "metadata": {},
   "outputs": [
    {
     "name": "stderr",
     "output_type": "stream",
     "text": [
      "/home/eric/.local/lib/python3.6/site-packages/ipykernel_launcher.py:1: SettingWithCopyWarning: \n",
      "A value is trying to be set on a copy of a slice from a DataFrame.\n",
      "Try using .loc[row_indexer,col_indexer] = value instead\n",
      "\n",
      "See the caveats in the documentation: http://pandas.pydata.org/pandas-docs/stable/indexing.html#indexing-view-versus-copy\n",
      "  \"\"\"Entry point for launching an IPython kernel.\n"
     ]
    }
   ],
   "source": [
    "test_data_sub['score'] = test_data_sub['score'].apply(lambda x: int(np.round(x)))"
   ]
  },
  {
   "cell_type": "code",
   "execution_count": 31,
   "metadata": {},
   "outputs": [],
   "source": [
    "test_data_sub[['id','score']].to_csv('19_03_18_1.csv',index=False)"
   ]
  },
  {
   "cell_type": "code",
   "execution_count": null,
   "metadata": {},
   "outputs": [],
   "source": [
    "test_data1"
   ]
  },
  {
   "cell_type": "code",
   "execution_count": null,
   "metadata": {},
   "outputs": [],
   "source": []
  }
 ],
 "metadata": {
  "kernelspec": {
   "display_name": "Python 3",
   "language": "python",
   "name": "python3"
  },
  "language_info": {
   "codemirror_mode": {
    "name": "ipython",
    "version": 3
   },
   "file_extension": ".py",
   "mimetype": "text/x-python",
   "name": "python",
   "nbconvert_exporter": "python",
   "pygments_lexer": "ipython3",
   "version": "3.6.7"
  }
 },
 "nbformat": 4,
 "nbformat_minor": 2
}
